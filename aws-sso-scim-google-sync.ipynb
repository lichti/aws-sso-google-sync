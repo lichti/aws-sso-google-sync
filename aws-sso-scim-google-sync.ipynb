{
 "cells": [
  {
   "cell_type": "markdown",
   "id": "9f7a4a04-2bb3-433b-8378-17c978c21ce6",
   "metadata": {
    "tags": []
   },
   "source": [
    "# Script to provision Google Directory users and groups in AWS IAM Identity Center (Old AWS SSO) using SCIM"
   ]
  },
  {
   "cell_type": "markdown",
   "id": "61e4dfba-6d24-4bc8-a375-b7ef7dc4bf03",
   "metadata": {},
   "source": [
    "* Author: Gustavo Lichti Mendonça\n",
    "* Mail: [gustavo.lichti@gmail.com](mailto:gustavo.lichti@gmail.com)\n",
    "* This Code: [https://github.com/lichti/aws-sso-google-sync\n",
    "](https://github.com/lichti/aws-sso-google-sync\n",
    ")"
   ]
  },
  {
   "cell_type": "markdown",
   "id": "7d917c8d-ce5a-4cb8-a7a9-4c6183a31712",
   "metadata": {},
   "source": [
    "## Why i need todo this"
   ]
  },
  {
   "cell_type": "markdown",
   "id": "d7b9bad3-885f-4315-804e-08398504c91e",
   "metadata": {},
   "source": [
    "Why Google Directory and SAML integration do not have SCIM integration"
   ]
  },
  {
   "cell_type": "markdown",
   "id": "a3d1e970",
   "metadata": {
    "tags": []
   },
   "source": [
    "## Dependencies installing"
   ]
  },
  {
   "cell_type": "code",
   "execution_count": null,
   "id": "bba0f323",
   "metadata": {
    "tags": []
   },
   "outputs": [],
   "source": [
    "%%bash\n",
    "pip install requests\n",
    "pip install pyyaml\n",
    "pip install google-api-python-client\n",
    "pip install oauth2client\n",
    "pip install google-auth-httplib2\n",
    "pip install google-auth-oauthlib"
   ]
  },
  {
   "cell_type": "markdown",
   "id": "264b38da",
   "metadata": {
    "tags": []
   },
   "source": [
    "## Imports"
   ]
  },
  {
   "cell_type": "code",
   "execution_count": null,
   "id": "8af8ab39",
   "metadata": {},
   "outputs": [],
   "source": [
    "import requests\n",
    "import json\n",
    "import configparser\n",
    "import logging\n",
    "import httplib2\n",
    "\n",
    "from apiclient.discovery import build\n",
    "from google.oauth2 import service_account"
   ]
  },
  {
   "cell_type": "markdown",
   "id": "b808bbef-2aea-4935-962a-dea52bbc8685",
   "metadata": {},
   "source": [
    "## Logs\n",
    "\n",
    "[https://googleapis.github.io/google-api-python-client/docs/logging.html](https://googleapis.github.io/google-api-python-client/docs/logging.html)"
   ]
  },
  {
   "cell_type": "code",
   "execution_count": null,
   "id": "c227557e-087c-4d44-bedc-2cd87c2ea4ea",
   "metadata": {},
   "outputs": [],
   "source": [
    "logger = logging.getLogger()\n",
    "logger.setLevel(logging.INFO)\n",
    "httplib2.debuglevel = 0"
   ]
  },
  {
   "cell_type": "markdown",
   "id": "18dda11f-540a-4b5a-add5-793e50438496",
   "metadata": {
    "tags": []
   },
   "source": [
    "## Load config file with credentials"
   ]
  },
  {
   "cell_type": "markdown",
   "id": "85b03f5a-25b5-45d1-af59-8d397f284f05",
   "metadata": {
    "tags": []
   },
   "source": [
    "Read more about configparser: [https://docs.python.org/3/library/configparser.html](https://docs.python.org/3/library/configparser.html)\n",
    "\n",
    "Config Teamplate:\n",
    "\n",
    "```text\n",
    "[AWS-SSO-SCIM]\n",
    "base_url = https://scim.us-east-1.amazonaws.com/YOUR-AWS-SSO-ID/scim/v2/\n",
    "bearertoken = YOUR-AWS-SSO-BEARERTOKEN\n",
    "deleted_group_action=empty\n",
    "\n",
    "[GOOGLE-ADMIN]\n",
    "domain = xyz.com.br\n",
    "groups_filter = name:AWS-SSO*\n",
    "credentials_file=aws-sso-google-sync.json\n",
    "```\n",
    "\n",
    "- ```deleted_group_action``` defines the action for when a group is removed in Google Directory and can be:\n",
    "  - ```empty```: To remove all users from the group on the AWS side, but not delete it.\n",
    "  - ```remove```: To delete the group on the AWS side\n",
    "- ```group_filter``` use search for groups rules.\n",
    "  - See more: [https://developers.google.com/admin-sdk/directory/v1/guides/search-groups](https://developers.google.com/admin-sdk/directory/v1/guides/search-groups)"
   ]
  },
  {
   "cell_type": "code",
   "execution_count": null,
   "id": "a3db5fbe-3d62-4eed-a31d-7d8b37fd2e11",
   "metadata": {
    "tags": []
   },
   "outputs": [],
   "source": [
    "config = configparser.ConfigParser()\n",
    "config.read('aws-sso-scim-google-sync.ini')"
   ]
  },
  {
   "cell_type": "markdown",
   "id": "9fd86fdf",
   "metadata": {},
   "source": [
    "### SCIM AWS SSO CONFIG"
   ]
  },
  {
   "cell_type": "markdown",
   "id": "bcbbbd2c-542f-4797-9003-54763347f217",
   "metadata": {},
   "source": [
    "Learn more about AWS SSO SCIM:\n",
    "* [https://docs.aws.amazon.com/singlesignon/latest/developerguide/supported-apis.html](https://docs.aws.amazon.com/singlesignon/latest/developerguide/supported-apis.html)"
   ]
  },
  {
   "cell_type": "code",
   "execution_count": null,
   "id": "67a54a16",
   "metadata": {
    "tags": []
   },
   "outputs": [],
   "source": [
    "base_url = config['AWS-SSO-SCIM']['base_url']\n",
    "bearertoken = config['AWS-SSO-SCIM']['bearertoken']\n",
    "deleted_group_action = config['AWS-SSO-SCIM']['deleted_group_action']\n",
    "users_url = f\"{base_url}Users\"\n",
    "headers_auth = {\"Authorization\": f\"Bearer {bearertoken}\", \"Content-type\": \"application/json\"}"
   ]
  },
  {
   "cell_type": "markdown",
   "id": "61430db0-da6e-412b-bfc4-7c7846f7d858",
   "metadata": {},
   "source": [
    "### GOOGLE ADMIN CONFIG"
   ]
  },
  {
   "cell_type": "code",
   "execution_count": null,
   "id": "0e58c4f9-f5af-4f98-996b-f0582abab916",
   "metadata": {},
   "outputs": [],
   "source": [
    "google_domain = config['GOOGLE-ADMIN']['domain']\n",
    "groups_filter = config['GOOGLE-ADMIN']['groups_filter']\n",
    "google_credentials_file = config['GOOGLE-ADMIN']['credentials_file']\n"
   ]
  },
  {
   "cell_type": "markdown",
   "id": "f533c53f",
   "metadata": {
    "tags": []
   },
   "source": [
    "## HTTP helpers"
   ]
  },
  {
   "cell_type": "markdown",
   "id": "e04046d1-59f5-48e2-95f3-ff140762660a",
   "metadata": {},
   "source": [
    "Basic http methods helpers (get, post, put, patch, delete)\n",
    "\n",
    "Recommended reading: \n",
    "* [https://datatracker.ietf.org/doc/html/rfc7231#section-4.3](https://datatracker.ietf.org/doc/html/rfc7231#section-4.3)\n",
    "* [https://datatracker.ietf.org/doc/html/rfc7644#section-3.2](https://datatracker.ietf.org/doc/html/rfc7644#section-3.2)"
   ]
  },
  {
   "cell_type": "markdown",
   "id": "83b52c32",
   "metadata": {},
   "source": [
    "### Get"
   ]
  },
  {
   "cell_type": "code",
   "execution_count": null,
   "id": "6b9eeb20",
   "metadata": {},
   "outputs": [],
   "source": [
    "def get(path=None, params=None):\n",
    "    return requests.get(f\"{base_url}{path}\",headers=headers_auth, params=params)"
   ]
  },
  {
   "cell_type": "markdown",
   "id": "32d5a237",
   "metadata": {},
   "source": [
    "### Post"
   ]
  },
  {
   "cell_type": "code",
   "execution_count": null,
   "id": "424bbf45",
   "metadata": {},
   "outputs": [],
   "source": [
    "def post(path=None, params=None, data=None):\n",
    "    return requests.post(f\"{base_url}{path}\",headers=headers_auth, data=data)"
   ]
  },
  {
   "cell_type": "markdown",
   "id": "0916ac06",
   "metadata": {},
   "source": [
    "### Put"
   ]
  },
  {
   "cell_type": "code",
   "execution_count": null,
   "id": "32529fd0",
   "metadata": {},
   "outputs": [],
   "source": [
    "def put(path=None, params=None, data=None):\n",
    "    return requests.put(f\"{base_url}{path}\",headers=headers_auth, data=data)"
   ]
  },
  {
   "cell_type": "markdown",
   "id": "14b49841",
   "metadata": {},
   "source": [
    "### Patch"
   ]
  },
  {
   "cell_type": "code",
   "execution_count": null,
   "id": "0f0cb212",
   "metadata": {},
   "outputs": [],
   "source": [
    "def patch(path=None, params=None, data=None):\n",
    "    return requests.patch(f\"{base_url}{path}\",headers=headers_auth, data=data)"
   ]
  },
  {
   "cell_type": "markdown",
   "id": "465ccf4e",
   "metadata": {},
   "source": [
    "### Delete"
   ]
  },
  {
   "cell_type": "code",
   "execution_count": null,
   "id": "1e8fa481",
   "metadata": {},
   "outputs": [],
   "source": [
    "def delete(path=None):\n",
    "    return requests.delete(f\"{base_url}{path}\",headers=headers_auth)"
   ]
  },
  {
   "cell_type": "markdown",
   "id": "dc8e4a6c",
   "metadata": {
    "tags": []
   },
   "source": [
    "## SCIM helpers"
   ]
  },
  {
   "cell_type": "markdown",
   "id": "1d8f1dad-31e7-4518-9b8b-b0f04e9bbf2e",
   "metadata": {},
   "source": [
    "Basic SCIM methods helpers\n",
    "\n",
    "Learn more abut SCIM:\n",
    "* [https://datatracker.ietf.org/doc/html/rfc7642](https://datatracker.ietf.org/doc/html/rfc7642)\n",
    "* [https://datatracker.ietf.org/doc/html/rfc7643](https://datatracker.ietf.org/doc/html/rfc7643)\n",
    "* [https://datatracker.ietf.org/doc/html/rfc7644](https://datatracker.ietf.org/doc/html/rfc7644)\n",
    "* [https://openid.net/specs/fastfed-scim-1_0-02.html#rfc.section.4](https://openid.net/specs/fastfed-scim-1_0-02.html#rfc.section.4)"
   ]
  },
  {
   "cell_type": "markdown",
   "id": "7f1cd6f9",
   "metadata": {},
   "source": [
    "### Users"
   ]
  },
  {
   "cell_type": "markdown",
   "id": "8bffb3b7",
   "metadata": {},
   "source": [
    "#### CreateUser\n",
    "\n",
    "- [https://datatracker.ietf.org/doc/html/rfc7644#section-3.3](https://datatracker.ietf.org/doc/html/rfc7644#section-3.3)"
   ]
  },
  {
   "cell_type": "code",
   "execution_count": null,
   "id": "8c2be0e0",
   "metadata": {
    "tags": []
   },
   "outputs": [],
   "source": [
    "def createUser(userName=None,familyName=None,givenName=None,displayName=None,email=None,\n",
    "               preferredLanguage=\"en-US\",locale=\"en-US\",timezone=\"America/Sao_Paulo\",active=True):\n",
    "    if userName and familyName and givenName and displayName and email:\n",
    "        data = {\n",
    "            \"userName\": f\"{userName}\",\n",
    "            \"name\": {\n",
    "                \"familyName\": f\"{familyName}\",\n",
    "                \"givenName\": f\"{givenName}\",\n",
    "            },\n",
    "            \"displayName\": f\"{displayName}\",\n",
    "            \"emails\": [\n",
    "                {\n",
    "                    \"value\": f\"{email}\",\n",
    "                    \"type\": \"work\",\n",
    "                    \"primary\": True\n",
    "                }\n",
    "            ],\n",
    "            \"preferredLanguage\": f\"{preferredLanguage}\",\n",
    "            \"locale\": f\"{locale}\",\n",
    "            \"timezone\": f\"{timezone}\",\n",
    "            \"active\": f\"{active}\",\n",
    "        }\n",
    "        res = post(path=f\"Users\", data=json.dumps(data))\n",
    "        if res.status_code == 201:\n",
    "            return json.loads(res.text)['id']\n",
    "        else:\n",
    "            logging.info(res.content)"
   ]
  },
  {
   "cell_type": "markdown",
   "id": "aa1e82a0",
   "metadata": {},
   "source": [
    "#### ListUsers\n",
    "\n",
    "- [https://datatracker.ietf.org/doc/html/rfc7644#section-3.4.1](https://datatracker.ietf.org/doc/html/rfc7644#section-3.4.1)"
   ]
  },
  {
   "cell_type": "code",
   "execution_count": null,
   "id": "ce1738df",
   "metadata": {},
   "outputs": [],
   "source": [
    "def listUsers(params=None):\n",
    "    res = get(path='Users',params=params)\n",
    "    if res.status_code == 200:\n",
    "        users = json.loads(res.text)\n",
    "        return users"
   ]
  },
  {
   "cell_type": "markdown",
   "id": "252bee54",
   "metadata": {},
   "source": [
    "#### HasUserByUsername\n",
    "\n",
    "- [https://datatracker.ietf.org/doc/html/rfc7644#section-3.4.1](https://datatracker.ietf.org/doc/html/rfc7644#section-3.4.1)"
   ]
  },
  {
   "cell_type": "code",
   "execution_count": null,
   "id": "c94676d8",
   "metadata": {},
   "outputs": [],
   "source": [
    "def hasUserByUsername(userName=None):\n",
    "    if userName:\n",
    "        users = listUsers(f'filter=userName eq \"{userName}\"')['Resources']\n",
    "        for u in users:\n",
    "            if u['userName'] == userName:\n",
    "                return True\n",
    "    return False"
   ]
  },
  {
   "cell_type": "markdown",
   "id": "85d356c6",
   "metadata": {},
   "source": [
    "#### GetUserIDByUsername\n",
    "\n",
    "- [https://datatracker.ietf.org/doc/html/rfc7644#section-3.4.1](https://datatracker.ietf.org/doc/html/rfc7644#section-3.4.1)"
   ]
  },
  {
   "cell_type": "code",
   "execution_count": null,
   "id": "a2f666a9",
   "metadata": {},
   "outputs": [],
   "source": [
    "def getUserIDByUsername(userName=None):\n",
    "    if userName:\n",
    "        users = listUsers(f'filter=userName eq \"{userName}\"')['Resources']\n",
    "        for u in users:\n",
    "            if u['userName'] == userName:\n",
    "                return u['id']"
   ]
  },
  {
   "cell_type": "markdown",
   "id": "6b5850ae",
   "metadata": {},
   "source": [
    "#### GetUser\n",
    "\n",
    "- [https://datatracker.ietf.org/doc/html/rfc7644#section-3.4.1](https://datatracker.ietf.org/doc/html/rfc7644#section-3.4.1)"
   ]
  },
  {
   "cell_type": "code",
   "execution_count": null,
   "id": "564c3516",
   "metadata": {},
   "outputs": [],
   "source": [
    "def getUser(user_id=None):\n",
    "    if user_id:\n",
    "        res = get(path=f\"Users/{user_id}\")\n",
    "        if res.status_code == 200:\n",
    "            return json.loads(res.text)"
   ]
  },
  {
   "cell_type": "markdown",
   "id": "ff84586a",
   "metadata": {},
   "source": [
    "#### ReplaceUser\n",
    "\n",
    "- [https://datatracker.ietf.org/doc/html/rfc7644#section-3.5.1](https://datatracker.ietf.org/doc/html/rfc7644#section-3.5.1)"
   ]
  },
  {
   "cell_type": "code",
   "execution_count": null,
   "id": "36de3539",
   "metadata": {},
   "outputs": [],
   "source": [
    "def replaceUser(user_id=None,userName=None,familyName=None,givenName=None,displayName=None,email=None,\n",
    "               preferredLanguage=\"en-US\",locale=\"en-US\",timezone=\"America/Sao_Paulo\",active=True):\n",
    "    if user_id and userName and familyName and givenName and displayName and email:\n",
    "        data = {\n",
    "            \"id\": f\"{user_id}\",\n",
    "            \"userName\": f\"{userName}\",\n",
    "            \"name\": {\n",
    "                \"familyName\": f\"{familyName}\",\n",
    "                \"givenName\": f\"{givenName}\",\n",
    "            },\n",
    "            \"displayName\": f\"{displayName}\",\n",
    "            \"emails\": [\n",
    "                {\n",
    "                    \"value\": f\"{email}\",\n",
    "                    \"type\": \"work\",\n",
    "                    \"primary\": True\n",
    "                }\n",
    "            ],\n",
    "            \"preferredLanguage\": f\"{preferredLanguage}\",\n",
    "            \"locale\": f\"{locale}\",\n",
    "            \"timezone\": f\"{timezone}\",\n",
    "            \"active\": f\"{active}\",\n",
    "        }\n",
    "        res = put(path=f\"Users/{user_id}\", data=json.dumps(data))\n",
    "        if res.status_code == 200:\n",
    "            return json.loads(res.text)['id']\n",
    "        else:\n",
    "            logging.info(res.content)"
   ]
  },
  {
   "cell_type": "markdown",
   "id": "b4114ffb",
   "metadata": {},
   "source": [
    "#### UpdateUser - I need improve this...\n",
    "\n",
    "- [https://datatracker.ietf.org/doc/html/rfc7644#section-3.5.2](https://datatracker.ietf.org/doc/html/rfc7644#section-3.5.2)"
   ]
  },
  {
   "cell_type": "code",
   "execution_count": null,
   "id": "a4be4188",
   "metadata": {},
   "outputs": [],
   "source": [
    "def updateUser(user_id=None, data=None):\n",
    "    return json.loads(patch(path=f\"Users/{user_id}\", data=data).text)"
   ]
  },
  {
   "cell_type": "markdown",
   "id": "7493edd6",
   "metadata": {},
   "source": [
    "#### DeleteUser\n",
    "\n",
    "- [https://datatracker.ietf.org/doc/html/rfc7644#section-3.6](https://datatracker.ietf.org/doc/html/rfc7644#section-3.6)"
   ]
  },
  {
   "cell_type": "code",
   "execution_count": null,
   "id": "d052b068",
   "metadata": {},
   "outputs": [],
   "source": [
    "def deleteUser(user_id=None):\n",
    "    res = delete(path=f\"Users/{user_id}\")\n",
    "    if res.status_code == 204:\n",
    "        return True\n",
    "    return False"
   ]
  },
  {
   "cell_type": "markdown",
   "id": "a9ef1843",
   "metadata": {},
   "source": [
    "### Groups"
   ]
  },
  {
   "cell_type": "markdown",
   "id": "18540412",
   "metadata": {},
   "source": [
    "#### CreateGroup\n",
    "\n",
    "- [https://datatracker.ietf.org/doc/html/rfc7644#section-3.3](https://datatracker.ietf.org/doc/html/rfc7644#section-3.3)"
   ]
  },
  {
   "cell_type": "code",
   "execution_count": null,
   "id": "d3fdcf58",
   "metadata": {},
   "outputs": [],
   "source": [
    "def createGroup(groupName=None):\n",
    "    if groupName:\n",
    "        data = {\"displayName\": f\"{groupName}\"}\n",
    "        res = post(path=f\"Groups\", data=json.dumps(data))\n",
    "        if res.status_code == 201:\n",
    "            return json.loads(res.text)['id']\n",
    "        else:\n",
    "            logging.info(res.content)"
   ]
  },
  {
   "cell_type": "markdown",
   "id": "13869b37",
   "metadata": {},
   "source": [
    "#### ListGroups\n",
    "\n",
    "- [https://datatracker.ietf.org/doc/html/rfc7644#section-3.4.1](https://datatracker.ietf.org/doc/html/rfc7644#section-3.4.1)"
   ]
  },
  {
   "cell_type": "code",
   "execution_count": null,
   "id": "b2e67cf9",
   "metadata": {},
   "outputs": [],
   "source": [
    "def listGroups(params=None):\n",
    "    res = get(path='Groups',params=params)\n",
    "    if res.status_code == 200:\n",
    "        groups = json.loads(res.text)\n",
    "        return groups"
   ]
  },
  {
   "cell_type": "markdown",
   "id": "7901e34e",
   "metadata": {},
   "source": [
    "#### HasGroupByName\n",
    "\n",
    "- [https://datatracker.ietf.org/doc/html/rfc7644#section-3.4.1](https://datatracker.ietf.org/doc/html/rfc7644#section-3.4.1)"
   ]
  },
  {
   "cell_type": "code",
   "execution_count": null,
   "id": "620f4959",
   "metadata": {},
   "outputs": [],
   "source": [
    "def hasGroupByName(groupName=None):\n",
    "    if groupName:\n",
    "        groups = listGroups(f'filter=displayName eq \"{groupName}\"')['Resources']\n",
    "        for g in groups:\n",
    "            if g['displayName'] == groupName:\n",
    "                return True\n",
    "    return False"
   ]
  },
  {
   "cell_type": "markdown",
   "id": "b8cf7981",
   "metadata": {},
   "source": [
    "#### GetGroupIDByName\n",
    "\n",
    "- [https://datatracker.ietf.org/doc/html/rfc7644#section-3.4.1](https://datatracker.ietf.org/doc/html/rfc7644#section-3.4.1)"
   ]
  },
  {
   "cell_type": "code",
   "execution_count": null,
   "id": "e630d890",
   "metadata": {},
   "outputs": [],
   "source": [
    "def getGroupIBByName(groupName=None):\n",
    "    if groupName:\n",
    "        groups = listGroups(f'filter=displayName eq \"{groupName}\"')['Resources']\n",
    "        for g in groups:\n",
    "            if g['displayName'] == groupName:\n",
    "                return g['id']"
   ]
  },
  {
   "cell_type": "markdown",
   "id": "ec436b06",
   "metadata": {},
   "source": [
    "#### GetGroup\n",
    "\n",
    "- [https://datatracker.ietf.org/doc/html/rfc7644#section-3.4.1](https://datatracker.ietf.org/doc/html/rfc7644#section-3.4.1)"
   ]
  },
  {
   "cell_type": "code",
   "execution_count": null,
   "id": "6b1f6a99",
   "metadata": {},
   "outputs": [],
   "source": [
    "def getGroup(group_id=None):\n",
    "    if group_id:\n",
    "        res = get(path=f\"Groups/{group_id}\")\n",
    "        if res.status_code == 200:\n",
    "            return json.loads(res.text)"
   ]
  },
  {
   "cell_type": "markdown",
   "id": "1151cdf9",
   "metadata": {},
   "source": [
    "#### UpdateGroup\n",
    "\n",
    "- [https://datatracker.ietf.org/doc/html/rfc7644#section-3.5.2](https://datatracker.ietf.org/doc/html/rfc7644#section-3.5.2)"
   ]
  },
  {
   "cell_type": "code",
   "execution_count": null,
   "id": "92ca7169",
   "metadata": {},
   "outputs": [],
   "source": [
    "def updateGroup(group_id=None, operation=None, members=[]):\n",
    "    if len(members) > 0:\n",
    "        data_values = [{\"value\": f\"{member}\"} for member in members]\n",
    "    else:\n",
    "        data_values = [{\"value\": \"\"}]\n",
    "        \n",
    "    if group_id and operation:\n",
    "        logging.info(f\"Updating {group_id}\")\n",
    "        data = {\n",
    "            \"schemas\":[\"urn:ietf:params:scim:api:messages:2.0:PatchOp\"],\n",
    "            \"Operations\":[\n",
    "                {\n",
    "                    \"op\": f\"{operation}\",\n",
    "                    \"path\": \"members\",\n",
    "                    \"value\": data_values\n",
    "                }\n",
    "            ]\n",
    "        }\n",
    "        res = patch(path=f\"Groups/{group_id}\", data=json.dumps(data))\n",
    "        if res.status_code == 204:\n",
    "            return True\n",
    "        else:\n",
    "            logging.debug(res.content)\n",
    "            return False"
   ]
  },
  {
   "cell_type": "markdown",
   "id": "63b4fc7f",
   "metadata": {},
   "source": [
    "#### DeleteGroup\n",
    "\n",
    "- [https://datatracker.ietf.org/doc/html/rfc7644#section-3.6](https://datatracker.ietf.org/doc/html/rfc7644#section-3.6)"
   ]
  },
  {
   "cell_type": "code",
   "execution_count": null,
   "id": "5390adb6",
   "metadata": {
    "tags": []
   },
   "outputs": [],
   "source": [
    "def deleteGroup(group_id=None):\n",
    "    res = delete(path=f\"Groups/{group_id}\")\n",
    "    if res.status_code == 204:\n",
    "        return True\n",
    "    return False"
   ]
  },
  {
   "cell_type": "markdown",
   "id": "dc747bac-07c3-40c3-8d9e-7880151cd47e",
   "metadata": {
    "tags": []
   },
   "source": [
    "### CreateOrUpdateUser"
   ]
  },
  {
   "cell_type": "markdown",
   "id": "c7461c4b-2e67-4c59-ac46-79eb47cf48c1",
   "metadata": {},
   "source": [
    "Method for creating or updating a user by SCIM provisioning"
   ]
  },
  {
   "cell_type": "code",
   "execution_count": null,
   "id": "d325243e-b875-4aaa-ba6b-bd1864bc122b",
   "metadata": {},
   "outputs": [],
   "source": [
    "def CreateOrUpdateUser(member=None):\n",
    "    logging.info(f\"{member['name']['fullName']} => {not member['suspended']}\")\n",
    "    if not hasUserByUsername(member['primaryEmail']):\n",
    "        logging.info(f\"--> Creating user {member['primaryEmail']} -> {member['name']['fullName']}\")\n",
    "        ID = createUser(userName=member['primaryEmail'],\n",
    "                        familyName=member['name']['familyName'],\n",
    "                        givenName=member['name']['givenName'],\n",
    "                        displayName=member['name']['fullName'],\n",
    "                        email=member['primaryEmail'],\n",
    "                        preferredLanguage=\"en-US\",\n",
    "                        locale=\"en-US\",\n",
    "                        timezone=\"America/Sao_Paulo\",\n",
    "                        active=not member['suspended'])\n",
    "        if ID:\n",
    "            logging.info(f\"----> User created: {ID}\")\n",
    "        else:\n",
    "            logging.info(\"----> User create failed\")\n",
    "    else:\n",
    "        ID = getUserIDByUsername(member['primaryEmail'])\n",
    "        logging.info(f\"--> Updating user {member['primaryEmail']} -> {member['name']['fullName']} -> {ID}\")  \n",
    "        if replaceUser(user_id=ID,\n",
    "                       userName=member['primaryEmail'],\n",
    "                       familyName=member['name']['familyName'],\n",
    "                       givenName=member['name']['givenName'],\n",
    "                       displayName=member['name']['fullName'],\n",
    "                       email=member['primaryEmail'],\n",
    "                       preferredLanguage=\"en-US\",\n",
    "                       locale=\"en-US\",\n",
    "                       timezone=\"America/Sao_Paulo\",\n",
    "                       active=not member['suspended']):\n",
    "            logging.info(\"----> User updated\")\n",
    "        else:\n",
    "            logging.info(\"----> User update failed\")\n",
    "    return ID"
   ]
  },
  {
   "cell_type": "markdown",
   "id": "b35861f4-4d1f-4314-8a58-81fde10b5591",
   "metadata": {
    "tags": []
   },
   "source": [
    "## Google API Admin Directory Helpers\n",
    "\n",
    "- [https://googleapis.github.io/google-api-python-client/docs/dyn/admin_directory_v1.html](https://googleapis.github.io/google-api-python-client/docs/dyn/admin_directory_v1.html)"
   ]
  },
  {
   "cell_type": "markdown",
   "id": "0f154054-2297-46a9-9f13-a6dca8c099ee",
   "metadata": {},
   "source": [
    "### get_groups\n",
    "\n",
    "- [https://googleapis.github.io/google-api-python-client/docs/pagination.html\n",
    "](https://googleapis.github.io/google-api-python-client/docs/pagination.html\n",
    ")\n",
    "- [https://googleapis.github.io/google-api-python-client/docs/dyn/admin_directory_v1.groups.html](https://googleapis.github.io/google-api-python-client/docs/dyn/admin_directory_v1.groups.html)"
   ]
  },
  {
   "cell_type": "code",
   "execution_count": null,
   "id": "0e7736ee-b31d-4411-ad09-e16c3fedd6ac",
   "metadata": {},
   "outputs": [],
   "source": [
    "def get_groups(domain=None, maxResults=50, query=None, auth=None):\n",
    "    groups = []\n",
    "    resource = auth.groups()\n",
    "    request = resource.list(domain=domain,maxResults=maxResults, query=query)\n",
    " \n",
    "    while request is not None:\n",
    "        groups_results = request.execute()\n",
    "\n",
    "        for group in groups_results.get('groups', []):\n",
    "            del group['etag']\n",
    "            groups.append(group)\n",
    "            \n",
    "        request = resource.list_next(request, groups_results)\n",
    "        \n",
    "    return groups"
   ]
  },
  {
   "cell_type": "markdown",
   "id": "86427fed-3ca3-4ea5-973c-7f13207ce153",
   "metadata": {},
   "source": [
    "### get_group_members\n",
    "\n",
    "- [https://googleapis.github.io/google-api-python-client/docs/pagination.html\n",
    "](https://googleapis.github.io/google-api-python-client/docs/pagination.html\n",
    ")\n",
    "- [https://googleapis.github.io/google-api-python-client/docs/dyn/admin_directory_v1.members.html](https://googleapis.github.io/google-api-python-client/docs/dyn/admin_directory_v1.members.html)"
   ]
  },
  {
   "cell_type": "code",
   "execution_count": null,
   "id": "5b3de2f8-d52a-46df-addb-6d8fe09ec7af",
   "metadata": {},
   "outputs": [],
   "source": [
    "def get_group_members(group_id, maxResults=50,auth=None):\n",
    "    members = []\n",
    "    resource = auth.members()\n",
    "    request = resource.list(groupKey=group_id,maxResults=maxResults)\n",
    "    \n",
    "    while request is not None:\n",
    "        members_results = request.execute()\n",
    "\n",
    "        for member in members_results.get('members', []):\n",
    "            if member['type'] == 'USER':\n",
    "                del member['etag']\n",
    "                members.append(member)\n",
    "\n",
    "            if member['type'] == 'GROUP':\n",
    "                for member in get_group_members(member['email'], auth=auth):\n",
    "                    members.append(member)\n",
    "        request = resource.list_next(request, members_results)\n",
    "        \n",
    "    #Remove duplicated users\n",
    "    return [dict(member_t) for member_t in {tuple(member.items()) for member in members}]"
   ]
  },
  {
   "cell_type": "markdown",
   "id": "9629489f-bbc9-4b10-a1fd-7a35f3db2cc0",
   "metadata": {},
   "source": [
    "### get_user\n",
    "\n",
    "- [https://googleapis.github.io/google-api-python-client/docs/dyn/admin_directory_v1.users.html](https://googleapis.github.io/google-api-python-client/docs/dyn/admin_directory_v1.users.html)"
   ]
  },
  {
   "cell_type": "code",
   "execution_count": null,
   "id": "9b4b99c6-ed08-4503-84da-51624223aa16",
   "metadata": {},
   "outputs": [],
   "source": [
    "def get_user(userKey, auth=None):\n",
    "    user = auth.users().get(userKey=userKey).execute()\n",
    "    del user['etag']\n",
    "    return user"
   ]
  },
  {
   "cell_type": "markdown",
   "id": "e208e6f1-9bb8-482e-977e-1b306675634f",
   "metadata": {
    "tags": []
   },
   "source": [
    "## Generic Helpers"
   ]
  },
  {
   "cell_type": "markdown",
   "id": "8180796e-43f6-41b7-a7b1-df8526b0ba46",
   "metadata": {},
   "source": [
    "### listOfUsernamesToIDS"
   ]
  },
  {
   "cell_type": "markdown",
   "id": "e6640d89-fe51-432c-aa42-06209c98388e",
   "metadata": {},
   "source": [
    "Helper to create a list of IDs from a list of usernames. Need a dictionary to do the black magic to work"
   ]
  },
  {
   "cell_type": "code",
   "execution_count": null,
   "id": "76c732df-a006-412e-a8e3-693338ef6fa3",
   "metadata": {},
   "outputs": [],
   "source": [
    "def listOfUsernamesToIDS(usernames=None, usernames_dict=None):\n",
    "    IDs=[]\n",
    "    for username in usernames:\n",
    "        if username in usernames_dict:\n",
    "            IDs.append(usernames_dict[username])\n",
    "    return IDs"
   ]
  },
  {
   "cell_type": "markdown",
   "id": "634e12b0-bd12-4b9a-b12e-579342675028",
   "metadata": {
    "tags": []
   },
   "source": [
    "## AWS SSO SCIM SYNC WITH GOOGLE DIRECTORY\n",
    "\n",
    "***It's time!***\n",
    "\n",
    "- [https://googleapis.github.io/google-api-python-client/docs/](https://googleapis.github.io/google-api-python-client/docs/)\n",
    "- [https://googleapis.github.io/google-api-python-client/docs/epy/index.html](https://googleapis.github.io/google-api-python-client/docs/epy/index.html)\n"
   ]
  },
  {
   "cell_type": "markdown",
   "id": "5e7b3de2-b7ac-426a-9d2a-c1529aac47d0",
   "metadata": {},
   "source": [
    "### Configure Google Admin Authentication\n",
    "\n",
    "- [https://googleapis.github.io/google-api-python-client/docs/oauth.html\n",
    "](https://googleapis.github.io/google-api-python-client/docs/oauth.html\n",
    ")\n",
    "- [https://googleapis.github.io/google-api-python-client/docs/oauth-server.html](https://googleapis.github.io/google-api-python-client/docs/oauth-server.html)"
   ]
  },
  {
   "cell_type": "code",
   "execution_count": null,
   "id": "f635be53-0ed8-43ec-92bf-dd2d6317baf0",
   "metadata": {},
   "outputs": [],
   "source": [
    "target_scopes = ['https://www.googleapis.com/auth/admin.directory.user',\n",
    "                'https://www.googleapis.com/auth/admin.directory.group',\n",
    "                'https://www.googleapis.com/auth/admin.directory.group.member',\n",
    "                'https://www.googleapis.com/auth/admin.directory.group.member.readonly',\n",
    "                'https://www.googleapis.com/auth/admin.directory.group.readonly',\n",
    "                'https://apps-apis.google.com/a/feeds/groups/',\n",
    "                'https://www.googleapis.com/auth/admin.directory.user.readonly',\n",
    "                'https://www.googleapis.com/auth/cloud-platform']\n",
    "\n",
    "source_credentials = (\n",
    "    service_account.Credentials.from_service_account_file(\n",
    "        google_credentials_file,\n",
    "        scopes=target_scopes))"
   ]
  },
  {
   "cell_type": "markdown",
   "id": "02118e50-c7a7-4186-938c-4d0937dd26a1",
   "metadata": {},
   "source": [
    "### Google API Admin resource object\n",
    "\n",
    "- [https://googleapis.github.io/google-api-python-client/docs/epy/googleapiclient.discovery-module.html#build](https://googleapis.github.io/google-api-python-client/docs/epy/googleapiclient.discovery-module.html#build)"
   ]
  },
  {
   "cell_type": "code",
   "execution_count": null,
   "id": "5dc4bb59-a39f-4e23-a202-c3fdda3d8479",
   "metadata": {},
   "outputs": [],
   "source": [
    "google_srv_auth = build('admin', 'directory_v1', credentials=source_credentials)"
   ]
  },
  {
   "cell_type": "markdown",
   "id": "05e22493-0b67-482b-bd09-098836e14830",
   "metadata": {
    "tags": []
   },
   "source": [
    "### Local variables"
   ]
  },
  {
   "cell_type": "markdown",
   "id": "4ddf5a03-9d00-4cca-8f51-0aaea51ae55d",
   "metadata": {
    "tags": []
   },
   "source": [
    "#### List groups_with_members  "
   ]
  },
  {
   "cell_type": "markdown",
   "id": "c0a46c93-df2d-4964-9142-9b76458badd5",
   "metadata": {},
   "source": [
    "List to store all groups and their members (rich data)\n",
    "\n",
    "```\n",
    "[\n",
    "  {'group_name': '', 'group_email': '', 'group_members': {}}\n",
    "]\n",
    "```"
   ]
  },
  {
   "cell_type": "code",
   "execution_count": null,
   "id": "570415eb-726f-44ae-8272-d682b5406e3b",
   "metadata": {},
   "outputs": [],
   "source": [
    "groups_with_members = []"
   ]
  },
  {
   "cell_type": "markdown",
   "id": "e7b27c47-e530-48e1-8be3-e7c22d9a6723",
   "metadata": {},
   "source": [
    "#### List members_dict"
   ]
  },
  {
   "cell_type": "markdown",
   "id": "a51c6db1-b8d3-47f9-8215-be2bce622b66",
   "metadata": {},
   "source": [
    "Dict to store username => id\n",
    "\n",
    "```{'username1': 'id1', 'username2': 'id2', 'username..n': 'id..n'}```"
   ]
  },
  {
   "cell_type": "code",
   "execution_count": null,
   "id": "228e9eae-161a-4b5d-8c24-4287abbb2851",
   "metadata": {},
   "outputs": [],
   "source": [
    "members_dict={}"
   ]
  },
  {
   "cell_type": "markdown",
   "id": "5eeef13f-07b6-41a5-969d-ad0f9d51f000",
   "metadata": {},
   "source": [
    "#### List members_unique"
   ]
  },
  {
   "cell_type": "markdown",
   "id": "bcc930b1-cefe-4937-814b-8b35f49bc220",
   "metadata": {},
   "source": [
    "List of members dict\n",
    "\n",
    "``` [{member1}, {member2}, {member..n}] ```"
   ]
  },
  {
   "cell_type": "code",
   "execution_count": null,
   "id": "e19a71a8-a315-4759-8336-616afb87a68d",
   "metadata": {},
   "outputs": [],
   "source": [
    "members_unique=[]"
   ]
  },
  {
   "cell_type": "markdown",
   "id": "dcc0ddfb-0f9c-417d-8dc1-3b9ed43b92f0",
   "metadata": {},
   "source": [
    "### Populate groups_with_members "
   ]
  },
  {
   "cell_type": "code",
   "execution_count": null,
   "id": "f4d2df6c-bb53-4473-ad7c-acbe53d96439",
   "metadata": {},
   "outputs": [],
   "source": [
    "for group in get_groups(domain=google_domain, query=groups_filter, auth=google_srv_auth):\n",
    "    group_members = [get_user(user['email'], auth=google_srv_auth) for user in get_group_members(group['email'], auth=google_srv_auth)]\n",
    "    groups_with_members.append({'group_name': group['name'],\n",
    "                                'group_email': group['email'],\n",
    "                                'group_members': group_members})"
   ]
  },
  {
   "cell_type": "markdown",
   "id": "6cba7511-7cc0-45a5-b0a9-00c048e8214a",
   "metadata": {},
   "source": [
    "### Populate members_dict and members_unique"
   ]
  },
  {
   "cell_type": "code",
   "execution_count": null,
   "id": "f8e216e6-5cdf-4290-910a-75f40bf90d36",
   "metadata": {},
   "outputs": [],
   "source": [
    "total_processed=0\n",
    "for group in groups_with_members:\n",
    "    if group['group_members']:\n",
    "        for member in group['group_members']:\n",
    "            total_processed = total_processed+1\n",
    "            if not member in members_unique:\n",
    "                members_unique.append(member)\n",
    "                members_dict[member['primaryEmail']] = getUserIDByUsername(member['primaryEmail'])\n",
    "                \n",
    "logging.info(f\"Groups: {len(groups_with_members)} | Processed members: {total_processed} | Unique members: {len(members_unique)}\")"
   ]
  },
  {
   "cell_type": "markdown",
   "id": "7b050a29-147f-44b2-b9a8-6f63210672f4",
   "metadata": {},
   "source": [
    "### Remove or Empty deleted groups from Google Directory"
   ]
  },
  {
   "cell_type": "code",
   "execution_count": null,
   "id": "dec676d6-1a9b-425c-8c5d-d811db8fb743",
   "metadata": {},
   "outputs": [],
   "source": [
    "google_groups=[ group['name'] for group in get_groups(domain=google_domain, query=groups_filter, auth=google_srv_auth)]\n",
    "awssso_groups=[ group['displayName'] for group in listGroups()['Resources']]\n",
    "removed_groups=list(set(awssso_groups)-set(google_groups))\n",
    "\n",
    "for group in removed_groups:\n",
    "    GroupID = getGroupIBByName(group)\n",
    "    if deleted_group_action == 'empty':\n",
    "        updateGroup(GroupID,\"replace\",[])\n",
    "        \n",
    "    if deleted_group_action == 'remove':\n",
    "        if deleteGroup(GroupID):\n",
    "            logging.info(f\"Group deleted => {group}\")"
   ]
  },
  {
   "cell_type": "markdown",
   "id": "2452e367-1f87-4114-9947-8762a72a0fed",
   "metadata": {},
   "source": [
    "### Create or Update unique members"
   ]
  },
  {
   "cell_type": "code",
   "execution_count": null,
   "id": "3750421a-f738-4327-b914-ecc6b8270271",
   "metadata": {},
   "outputs": [],
   "source": [
    "for n, member in enumerate(members_unique, 1):\n",
    "    logging.info(f\">{n}/{len(members_unique)}\")\n",
    "    CreateOrUpdateUser(member)"
   ]
  },
  {
   "cell_type": "markdown",
   "id": "38dfd0b8-e1cd-4377-8867-b0781ee8395a",
   "metadata": {},
   "source": [
    "### Create or Update groups"
   ]
  },
  {
   "cell_type": "code",
   "execution_count": null,
   "id": "405970c2-4e69-4c79-b428-ccb0411fdeb1",
   "metadata": {},
   "outputs": [],
   "source": [
    "for step, group in enumerate(groups_with_members, 1):\n",
    "    group_name = group['group_name']\n",
    "    logging.info(f\"({step}/{len(groups_with_members)}) Working in the group: {group_name}\")\n",
    "    members=[]\n",
    "    if group['group_members']:\n",
    "        for member in group['group_members']:\n",
    "            members.append(member['primaryEmail'])\n",
    "    if hasGroupByName(group_name):\n",
    "        logging.info(f\"--> Group exists\")\n",
    "        IDs = listOfUsernamesToIDS(members,members_dict)\n",
    "        GroupID = getGroupIBByName(group_name)\n",
    "        logging.info(GroupID)\n",
    "        logging.info(IDs)\n",
    "        if updateGroup(GroupID,\"replace\",IDs):\n",
    "            logging.info(\"----> Group members updated\")\n",
    "        else:\n",
    "            logging.info(\"----> Group members update failed\")\n",
    "    else:\n",
    "        logging.info(f\"--> Creating group\")\n",
    "        GroupID = createGroup(group_name)\n",
    "        if GroupID:\n",
    "            logging.info(\"----> Group created\")\n",
    "            IDs = listOfUsernamesToIDS(members,members_dict)\n",
    "            if updateGroup(GroupID,\"replace\",IDs):\n",
    "                logging.info(\"------> Group members updated\")\n",
    "            else:\n",
    "                logging.info(\"------> Group members update failed\")\n",
    "        else:\n",
    "            logging.info(\"----> Group create failed\")\n"
   ]
  }
 ],
 "metadata": {
  "kernelspec": {
   "display_name": "Python 3 (ipykernel)",
   "language": "python",
   "name": "python3"
  },
  "language_info": {
   "codemirror_mode": {
    "name": "ipython",
    "version": 3
   },
   "file_extension": ".py",
   "mimetype": "text/x-python",
   "name": "python",
   "nbconvert_exporter": "python",
   "pygments_lexer": "ipython3",
   "version": "3.10.6"
  }
 },
 "nbformat": 4,
 "nbformat_minor": 5
}
